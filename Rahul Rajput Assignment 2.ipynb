{
 "cells": [
  {
   "cell_type": "markdown",
   "id": "1dfcd081",
   "metadata": {},
   "source": [
    "HW Assignment 2 for Rahul Rajput"
   ]
  },
  {
   "cell_type": "code",
   "execution_count": 1,
   "id": "2b2522d4",
   "metadata": {},
   "outputs": [],
   "source": [
    "import pandas as pd\n",
    "import numpy as np\n",
    "import plotly\n",
    "import matplotlib.pyplot as plt\n",
    "from sklearn.linear_model import LogisticRegression, LinearRegression\n",
    "from sklearn.model_selection import train_test_split\n",
    "from sklearn.preprocessing import RobustScaler\n",
    "from sklearn.preprocessing import PolynomialFeatures\n",
    "import statsmodels.api as sm"
   ]
  },
  {
   "cell_type": "code",
   "execution_count": 2,
   "id": "bbde2b36",
   "metadata": {},
   "outputs": [],
   "source": [
    "sales = pd.read_csv(\"/Users/rahulrajput/Desktop/MSBA/Winter/452 - Machine Learning/Assignment 2/sales.csv\")\n",
    "customer = pd.read_csv(\"/Users/rahulrajput/Desktop/MSBA/Winter/452 - Machine Learning/Assignment 2/customer.csv\")"
   ]
  },
  {
   "cell_type": "markdown",
   "id": "cbec576c",
   "metadata": {},
   "source": [
    "Question 1"
   ]
  },
  {
   "cell_type": "code",
   "execution_count": 3,
   "id": "3f79e623",
   "metadata": {},
   "outputs": [
    {
     "data": {
      "text/html": [
       "<div>\n",
       "<style scoped>\n",
       "    .dataframe tbody tr th:only-of-type {\n",
       "        vertical-align: middle;\n",
       "    }\n",
       "\n",
       "    .dataframe tbody tr th {\n",
       "        vertical-align: top;\n",
       "    }\n",
       "\n",
       "    .dataframe thead th {\n",
       "        text-align: right;\n",
       "    }\n",
       "</style>\n",
       "<table border=\"1\" class=\"dataframe\">\n",
       "  <thead>\n",
       "    <tr style=\"text-align: right;\">\n",
       "      <th></th>\n",
       "      <th>Unnamed: 0</th>\n",
       "      <th>area1_sales</th>\n",
       "      <th>area2_sales</th>\n",
       "      <th>area3_sales</th>\n",
       "      <th>total_sales</th>\n",
       "    </tr>\n",
       "  </thead>\n",
       "  <tbody>\n",
       "    <tr>\n",
       "      <th>count</th>\n",
       "      <td>3000.000000</td>\n",
       "      <td>3000.000000</td>\n",
       "      <td>3000.000000</td>\n",
       "      <td>3000.000000</td>\n",
       "      <td>3000.000000</td>\n",
       "    </tr>\n",
       "    <tr>\n",
       "      <th>mean</th>\n",
       "      <td>2499.500000</td>\n",
       "      <td>0.455067</td>\n",
       "      <td>0.115893</td>\n",
       "      <td>0.085187</td>\n",
       "      <td>0.909147</td>\n",
       "    </tr>\n",
       "    <tr>\n",
       "      <th>std</th>\n",
       "      <td>866.169729</td>\n",
       "      <td>0.296090</td>\n",
       "      <td>0.251816</td>\n",
       "      <td>0.091396</td>\n",
       "      <td>0.344035</td>\n",
       "    </tr>\n",
       "    <tr>\n",
       "      <th>min</th>\n",
       "      <td>1000.000000</td>\n",
       "      <td>0.000000</td>\n",
       "      <td>0.000000</td>\n",
       "      <td>0.000000</td>\n",
       "      <td>0.490000</td>\n",
       "    </tr>\n",
       "    <tr>\n",
       "      <th>25%</th>\n",
       "      <td>1749.750000</td>\n",
       "      <td>0.260000</td>\n",
       "      <td>0.000000</td>\n",
       "      <td>0.040000</td>\n",
       "      <td>0.610000</td>\n",
       "    </tr>\n",
       "    <tr>\n",
       "      <th>50%</th>\n",
       "      <td>2499.500000</td>\n",
       "      <td>0.420000</td>\n",
       "      <td>0.000000</td>\n",
       "      <td>0.070000</td>\n",
       "      <td>0.810000</td>\n",
       "    </tr>\n",
       "    <tr>\n",
       "      <th>75%</th>\n",
       "      <td>3249.250000</td>\n",
       "      <td>0.610000</td>\n",
       "      <td>0.080000</td>\n",
       "      <td>0.110000</td>\n",
       "      <td>1.150000</td>\n",
       "    </tr>\n",
       "    <tr>\n",
       "      <th>max</th>\n",
       "      <td>3999.000000</td>\n",
       "      <td>1.690000</td>\n",
       "      <td>1.710000</td>\n",
       "      <td>1.230000</td>\n",
       "      <td>1.750000</td>\n",
       "    </tr>\n",
       "  </tbody>\n",
       "</table>\n",
       "</div>"
      ],
      "text/plain": [
       "        Unnamed: 0  area1_sales  area2_sales  area3_sales  total_sales\n",
       "count  3000.000000  3000.000000  3000.000000  3000.000000  3000.000000\n",
       "mean   2499.500000     0.455067     0.115893     0.085187     0.909147\n",
       "std     866.169729     0.296090     0.251816     0.091396     0.344035\n",
       "min    1000.000000     0.000000     0.000000     0.000000     0.490000\n",
       "25%    1749.750000     0.260000     0.000000     0.040000     0.610000\n",
       "50%    2499.500000     0.420000     0.000000     0.070000     0.810000\n",
       "75%    3249.250000     0.610000     0.080000     0.110000     1.150000\n",
       "max    3999.000000     1.690000     1.710000     1.230000     1.750000"
      ]
     },
     "execution_count": 3,
     "metadata": {},
     "output_type": "execute_result"
    }
   ],
   "source": [
    "sales.describe()"
   ]
  },
  {
   "cell_type": "code",
   "execution_count": 4,
   "id": "f8d3ed27",
   "metadata": {},
   "outputs": [
    {
     "data": {
      "text/html": [
       "<div>\n",
       "<style scoped>\n",
       "    .dataframe tbody tr th:only-of-type {\n",
       "        vertical-align: middle;\n",
       "    }\n",
       "\n",
       "    .dataframe tbody tr th {\n",
       "        vertical-align: top;\n",
       "    }\n",
       "\n",
       "    .dataframe thead th {\n",
       "        text-align: right;\n",
       "    }\n",
       "</style>\n",
       "<table border=\"1\" class=\"dataframe\">\n",
       "  <thead>\n",
       "    <tr style=\"text-align: right;\">\n",
       "      <th></th>\n",
       "      <th>Unnamed: 0</th>\n",
       "      <th>area1_sales</th>\n",
       "      <th>area2_sales</th>\n",
       "      <th>area3_sales</th>\n",
       "      <th>total_sales</th>\n",
       "    </tr>\n",
       "  </thead>\n",
       "  <tbody>\n",
       "    <tr>\n",
       "      <th>0</th>\n",
       "      <td>1000</td>\n",
       "      <td>0.79</td>\n",
       "      <td>0.80</td>\n",
       "      <td>0.02</td>\n",
       "      <td>1.75</td>\n",
       "    </tr>\n",
       "    <tr>\n",
       "      <th>1</th>\n",
       "      <td>1001</td>\n",
       "      <td>0.83</td>\n",
       "      <td>0.08</td>\n",
       "      <td>0.18</td>\n",
       "      <td>1.75</td>\n",
       "    </tr>\n",
       "    <tr>\n",
       "      <th>2</th>\n",
       "      <td>1002</td>\n",
       "      <td>0.85</td>\n",
       "      <td>0.01</td>\n",
       "      <td>0.22</td>\n",
       "      <td>1.75</td>\n",
       "    </tr>\n",
       "    <tr>\n",
       "      <th>3</th>\n",
       "      <td>1003</td>\n",
       "      <td>1.25</td>\n",
       "      <td>0.00</td>\n",
       "      <td>0.03</td>\n",
       "      <td>1.75</td>\n",
       "    </tr>\n",
       "    <tr>\n",
       "      <th>4</th>\n",
       "      <td>1004</td>\n",
       "      <td>0.72</td>\n",
       "      <td>0.04</td>\n",
       "      <td>0.10</td>\n",
       "      <td>1.74</td>\n",
       "    </tr>\n",
       "    <tr>\n",
       "      <th>...</th>\n",
       "      <td>...</td>\n",
       "      <td>...</td>\n",
       "      <td>...</td>\n",
       "      <td>...</td>\n",
       "      <td>...</td>\n",
       "    </tr>\n",
       "    <tr>\n",
       "      <th>2995</th>\n",
       "      <td>3995</td>\n",
       "      <td>0.20</td>\n",
       "      <td>0.00</td>\n",
       "      <td>0.07</td>\n",
       "      <td>0.49</td>\n",
       "    </tr>\n",
       "    <tr>\n",
       "      <th>2996</th>\n",
       "      <td>3996</td>\n",
       "      <td>0.28</td>\n",
       "      <td>0.00</td>\n",
       "      <td>0.04</td>\n",
       "      <td>0.49</td>\n",
       "    </tr>\n",
       "    <tr>\n",
       "      <th>2997</th>\n",
       "      <td>3997</td>\n",
       "      <td>0.00</td>\n",
       "      <td>0.49</td>\n",
       "      <td>0.00</td>\n",
       "      <td>0.49</td>\n",
       "    </tr>\n",
       "    <tr>\n",
       "      <th>2998</th>\n",
       "      <td>3998</td>\n",
       "      <td>0.07</td>\n",
       "      <td>0.09</td>\n",
       "      <td>0.07</td>\n",
       "      <td>0.49</td>\n",
       "    </tr>\n",
       "    <tr>\n",
       "      <th>2999</th>\n",
       "      <td>3999</td>\n",
       "      <td>0.24</td>\n",
       "      <td>0.00</td>\n",
       "      <td>0.06</td>\n",
       "      <td>0.49</td>\n",
       "    </tr>\n",
       "  </tbody>\n",
       "</table>\n",
       "<p>3000 rows × 5 columns</p>\n",
       "</div>"
      ],
      "text/plain": [
       "      Unnamed: 0  area1_sales  area2_sales  area3_sales  total_sales\n",
       "0           1000         0.79         0.80         0.02         1.75\n",
       "1           1001         0.83         0.08         0.18         1.75\n",
       "2           1002         0.85         0.01         0.22         1.75\n",
       "3           1003         1.25         0.00         0.03         1.75\n",
       "4           1004         0.72         0.04         0.10         1.74\n",
       "...          ...          ...          ...          ...          ...\n",
       "2995        3995         0.20         0.00         0.07         0.49\n",
       "2996        3996         0.28         0.00         0.04         0.49\n",
       "2997        3997         0.00         0.49         0.00         0.49\n",
       "2998        3998         0.07         0.09         0.07         0.49\n",
       "2999        3999         0.24         0.00         0.06         0.49\n",
       "\n",
       "[3000 rows x 5 columns]"
      ]
     },
     "execution_count": 4,
     "metadata": {},
     "output_type": "execute_result"
    }
   ],
   "source": [
    "sales"
   ]
  },
  {
   "cell_type": "code",
   "execution_count": 5,
   "id": "96d4e0d3",
   "metadata": {
    "scrolled": true
   },
   "outputs": [
    {
     "data": {
      "text/plain": [
       "<AxesSubplot:>"
      ]
     },
     "execution_count": 5,
     "metadata": {},
     "output_type": "execute_result"
    },
    {
     "data": {
      "image/png": "[encoded data removed]",
      "text/plain": [
       "<Figure size 432x288 with 1 Axes>"
      ]
     },
     "metadata": {
      "needs_background": "light"
     },
     "output_type": "display_data"
    }
   ],
   "source": [
    "sales.iloc[:,1:4].boxplot()"
   ]
  },
  {
   "cell_type": "code",
   "execution_count": 6,
   "id": "5dcf41b9",
   "metadata": {
    "scrolled": true
   },
   "outputs": [
    {
     "data": {
      "text/plain": [
       "<matplotlib.collections.PathCollection at 0x7fa9d90f2af0>"
      ]
     },
     "execution_count": 6,
     "metadata": {},
     "output_type": "execute_result"
    },
    {
     "data": {
      "image/png": "[encoded data removed]",
      "text/plain": [
       "<Figure size 432x288 with 1 Axes>"
      ]
     },
     "metadata": {
      "needs_background": "light"
     },
     "output_type": "display_data"
    }
   ],
   "source": [
    "plt.scatter(sales.iloc[:,1],sales['total_sales'])"
   ]
  },
  {
   "cell_type": "code",
   "execution_count": 7,
   "id": "fc7f5acd",
   "metadata": {},
   "outputs": [
    {
     "data": {
      "text/plain": [
       "<matplotlib.collections.PathCollection at 0x7fa9d9170e20>"
      ]
     },
     "execution_count": 7,
     "metadata": {},
     "output_type": "execute_result"
    },
    {
     "data": {
      "image/png": "[encoded data removed]",
      "text/plain": [
       "<Figure size 432x288 with 1 Axes>"
      ]
     },
     "metadata": {
      "needs_background": "light"
     },
     "output_type": "display_data"
    }
   ],
   "source": [
    "plt.scatter(sales.iloc[:,2],sales['total_sales'])"
   ]
  },
  {
   "cell_type": "code",
   "execution_count": 8,
   "id": "d8c05dc8",
   "metadata": {},
   "outputs": [
    {
     "data": {
      "text/plain": [
       "<matplotlib.collections.PathCollection at 0x7fa9abf4e2b0>"
      ]
     },
     "execution_count": 8,
     "metadata": {},
     "output_type": "execute_result"
    },
    {
     "data": {
      "image/png": "[encoded data removed]",
      "text/plain": [
       "<Figure size 432x288 with 1 Axes>"
      ]
     },
     "metadata": {
      "needs_background": "light"
     },
     "output_type": "display_data"
    }
   ],
   "source": [
    "plt.scatter(sales.iloc[:,3],sales['total_sales'])"
   ]
  },
  {
   "cell_type": "code",
   "execution_count": 9,
   "id": "20274dad",
   "metadata": {},
   "outputs": [],
   "source": [
    "import seaborn as sns"
   ]
  },
  {
   "cell_type": "code",
   "execution_count": 11,
   "id": "2657c185",
   "metadata": {},
   "outputs": [
    {
     "name": "stdout",
     "output_type": "stream",
     "text": [
      "                            OLS Regression Results                            \n",
      "==============================================================================\n",
      "Dep. Variable:            total_sales   R-squared:                       0.702\n",
      "Model:                            OLS   Adj. R-squared:                  0.702\n",
      "Method:                 Least Squares   F-statistic:                     2354.\n",
      "Date:                Sun, 22 Jan 2023   Prob (F-statistic):               0.00\n",
      "Time:                        23:27:28   Log-Likelihood:                 761.25\n",
      "No. Observations:                3000   AIC:                            -1515.\n",
      "Df Residuals:                    2996   BIC:                            -1490.\n",
      "Df Model:                           3                                         \n",
      "Covariance Type:            nonrobust                                         \n",
      "===============================================================================\n",
      "                  coef    std err          t      P>|t|      [0.025      0.975]\n",
      "-------------------------------------------------------------------------------\n",
      "Intercept       0.2601      0.008     30.743      0.000       0.243       0.277\n",
      "area1_sales     0.9148      0.013     72.435      0.000       0.890       0.940\n",
      "area2_sales     0.7489      0.015     49.102      0.000       0.719       0.779\n",
      "area3_sales     1.7136      0.039     44.344      0.000       1.638       1.789\n",
      "==============================================================================\n",
      "Omnibus:                      482.733   Durbin-Watson:                   1.442\n",
      "Prob(Omnibus):                  0.000   Jarque-Bera (JB):             2611.741\n",
      "Skew:                           0.653   Prob(JB):                         0.00\n",
      "Kurtosis:                       7.380   Cond. No.                         12.7\n",
      "==============================================================================\n",
      "\n",
      "Notes:\n",
      "[1] Standard Errors assume that the covariance matrix of the errors is correctly specified.\n"
     ]
    }
   ],
   "source": [
    "model1a = sm.OLS.from_formula('total_sales ~ area1_sales + area2_sales + area3_sales', sales).fit()\n",
    "print(model1a.summary())"
   ]
  },
  {
   "cell_type": "code",
   "execution_count": 12,
   "id": "fa171bb1",
   "metadata": {
    "scrolled": true
   },
   "outputs": [
    {
     "name": "stdout",
     "output_type": "stream",
     "text": [
      "                            OLS Regression Results                            \n",
      "==============================================================================\n",
      "Dep. Variable:            total_sales   R-squared:                       0.716\n",
      "Model:                            OLS   Adj. R-squared:                  0.715\n",
      "Method:                 Least Squares   F-statistic:                     1075.\n",
      "Date:                Sun, 22 Jan 2023   Prob (F-statistic):               0.00\n",
      "Time:                        23:28:43   Log-Likelihood:                 830.59\n",
      "No. Observations:                3000   AIC:                            -1645.\n",
      "Df Residuals:                    2992   BIC:                            -1597.\n",
      "Df Model:                           7                                         \n",
      "Covariance Type:            nonrobust                                         \n",
      "=======================================================================================================\n",
      "                                          coef    std err          t      P>|t|      [0.025      0.975]\n",
      "-------------------------------------------------------------------------------------------------------\n",
      "Intercept                               0.3119      0.010     32.077      0.000       0.293       0.331\n",
      "area1_sales                             0.7852      0.018     42.656      0.000       0.749       0.821\n",
      "area2_sales                             0.6518      0.020     33.057      0.000       0.613       0.690\n",
      "area3_sales                             1.2583      0.065     19.447      0.000       1.131       1.385\n",
      "area1_sales:area2_sales                 0.1991      0.091      2.188      0.029       0.021       0.377\n",
      "area1_sales:area3_sales                 1.0889      0.144      7.550      0.000       0.806       1.372\n",
      "area2_sales:area3_sales                 0.1994      0.458      0.436      0.663      -0.698       1.097\n",
      "area1_sales:area2_sales:area3_sales     5.3078      1.461      3.634      0.000       2.444       8.172\n",
      "==============================================================================\n",
      "Omnibus:                      550.091   Durbin-Watson:                   1.453\n",
      "Prob(Omnibus):                  0.000   Jarque-Bera (JB):             2499.463\n",
      "Skew:                           0.815   Prob(JB):                         0.00\n",
      "Kurtosis:                       7.164   Cond. No.                         496.\n",
      "==============================================================================\n",
      "\n",
      "Notes:\n",
      "[1] Standard Errors assume that the covariance matrix of the errors is correctly specified.\n"
     ]
    }
   ],
   "source": [
    "model1b = sm.OLS.from_formula('total_sales ~ area1_sales + area2_sales + area3_sales + area1_sales:area2_sales + area1_sales*area3_sales + area2_sales*area3_sales + area1_sales*area2_sales*area3_sales', sales).fit()\n",
    "print(model1b.summary())"
   ]
  },
  {
   "cell_type": "markdown",
   "id": "d9485664",
   "metadata": {},
   "source": [
    "From the Full Model we can see that the interaction between the sales in area 1 and area 3 is significant, i.e., the sales in area 1 and area 3 affect each other and total sales cannot be predicted correctly without taking into account how sales in area 1 would affect sales in area 3."
   ]
  },
  {
   "cell_type": "markdown",
   "id": "5f0988ae",
   "metadata": {},
   "source": [
    "Question 2"
   ]
  },
  {
   "cell_type": "code",
   "execution_count": 13,
   "id": "1db97ea9",
   "metadata": {
    "scrolled": true
   },
   "outputs": [
    {
     "data": {
      "text/html": [
       "<div>\n",
       "<style scoped>\n",
       "    .dataframe tbody tr th:only-of-type {\n",
       "        vertical-align: middle;\n",
       "    }\n",
       "\n",
       "    .dataframe tbody tr th {\n",
       "        vertical-align: top;\n",
       "    }\n",
       "\n",
       "    .dataframe thead th {\n",
       "        text-align: right;\n",
       "    }\n",
       "</style>\n",
       "<table border=\"1\" class=\"dataframe\">\n",
       "  <thead>\n",
       "    <tr style=\"text-align: right;\">\n",
       "      <th></th>\n",
       "      <th>User ID</th>\n",
       "      <th>Gender</th>\n",
       "      <th>Age</th>\n",
       "      <th>EstimatedSalary</th>\n",
       "      <th>Purchased</th>\n",
       "    </tr>\n",
       "  </thead>\n",
       "  <tbody>\n",
       "    <tr>\n",
       "      <th>0</th>\n",
       "      <td>15624510</td>\n",
       "      <td>Male</td>\n",
       "      <td>19</td>\n",
       "      <td>19000</td>\n",
       "      <td>0</td>\n",
       "    </tr>\n",
       "    <tr>\n",
       "      <th>1</th>\n",
       "      <td>15810944</td>\n",
       "      <td>Male</td>\n",
       "      <td>35</td>\n",
       "      <td>20000</td>\n",
       "      <td>0</td>\n",
       "    </tr>\n",
       "    <tr>\n",
       "      <th>2</th>\n",
       "      <td>15668575</td>\n",
       "      <td>Female</td>\n",
       "      <td>26</td>\n",
       "      <td>43000</td>\n",
       "      <td>0</td>\n",
       "    </tr>\n",
       "    <tr>\n",
       "      <th>3</th>\n",
       "      <td>15603246</td>\n",
       "      <td>Female</td>\n",
       "      <td>27</td>\n",
       "      <td>57000</td>\n",
       "      <td>0</td>\n",
       "    </tr>\n",
       "    <tr>\n",
       "      <th>4</th>\n",
       "      <td>15804002</td>\n",
       "      <td>Male</td>\n",
       "      <td>19</td>\n",
       "      <td>76000</td>\n",
       "      <td>0</td>\n",
       "    </tr>\n",
       "    <tr>\n",
       "      <th>...</th>\n",
       "      <td>...</td>\n",
       "      <td>...</td>\n",
       "      <td>...</td>\n",
       "      <td>...</td>\n",
       "      <td>...</td>\n",
       "    </tr>\n",
       "    <tr>\n",
       "      <th>395</th>\n",
       "      <td>15691863</td>\n",
       "      <td>Female</td>\n",
       "      <td>46</td>\n",
       "      <td>41000</td>\n",
       "      <td>1</td>\n",
       "    </tr>\n",
       "    <tr>\n",
       "      <th>396</th>\n",
       "      <td>15706071</td>\n",
       "      <td>Male</td>\n",
       "      <td>51</td>\n",
       "      <td>23000</td>\n",
       "      <td>1</td>\n",
       "    </tr>\n",
       "    <tr>\n",
       "      <th>397</th>\n",
       "      <td>15654296</td>\n",
       "      <td>Female</td>\n",
       "      <td>50</td>\n",
       "      <td>20000</td>\n",
       "      <td>1</td>\n",
       "    </tr>\n",
       "    <tr>\n",
       "      <th>398</th>\n",
       "      <td>15755018</td>\n",
       "      <td>Male</td>\n",
       "      <td>36</td>\n",
       "      <td>33000</td>\n",
       "      <td>0</td>\n",
       "    </tr>\n",
       "    <tr>\n",
       "      <th>399</th>\n",
       "      <td>15594041</td>\n",
       "      <td>Female</td>\n",
       "      <td>49</td>\n",
       "      <td>36000</td>\n",
       "      <td>1</td>\n",
       "    </tr>\n",
       "  </tbody>\n",
       "</table>\n",
       "<p>400 rows × 5 columns</p>\n",
       "</div>"
      ],
      "text/plain": [
       "      User ID  Gender  Age  EstimatedSalary  Purchased\n",
       "0    15624510    Male   19            19000          0\n",
       "1    15810944    Male   35            20000          0\n",
       "2    15668575  Female   26            43000          0\n",
       "3    15603246  Female   27            57000          0\n",
       "4    15804002    Male   19            76000          0\n",
       "..        ...     ...  ...              ...        ...\n",
       "395  15691863  Female   46            41000          1\n",
       "396  15706071    Male   51            23000          1\n",
       "397  15654296  Female   50            20000          1\n",
       "398  15755018    Male   36            33000          0\n",
       "399  15594041  Female   49            36000          1\n",
       "\n",
       "[400 rows x 5 columns]"
      ]
     },
     "execution_count": 13,
     "metadata": {},
     "output_type": "execute_result"
    }
   ],
   "source": [
    "customer"
   ]
  },
  {
   "cell_type": "markdown",
   "id": "594f95ac",
   "metadata": {},
   "source": [
    "We cannot calculate the conventional R-Squared value for a Logistic Regression, however, we use Maximum Likelihood Estimation to arrive at a figure that helps us estimate the amount of error accounted for, which is called Deviance. Through MLE we try to minimise the Deviance. \n",
    "\n",
    "In this case we are only comparing in-sample pseudo r-squared values."
   ]
  },
  {
   "cell_type": "code",
   "execution_count": 14,
   "id": "9d25c2a8",
   "metadata": {},
   "outputs": [
    {
     "name": "stdout",
     "output_type": "stream",
     "text": [
      "Optimization terminated successfully.\n",
      "         Current function value: 0.584658\n",
      "         Iterations 5\n",
      "                           Logit Regression Results                           \n",
      "==============================================================================\n",
      "Dep. Variable:              Purchased   No. Observations:                  400\n",
      "Model:                          Logit   Df Residuals:                      398\n",
      "Method:                           MLE   Df Model:                            1\n",
      "Date:                Sun, 22 Jan 2023   Pseudo R-squ.:                  0.1032\n",
      "Time:                        23:28:50   Log-Likelihood:                -233.86\n",
      "converged:                       True   LL-Null:                       -260.79\n",
      "Covariance Type:            nonrobust   LLR p-value:                 2.168e-13\n",
      "===================================================================================\n",
      "                      coef    std err          z      P>|z|      [0.025      0.975]\n",
      "-----------------------------------------------------------------------------------\n",
      "Intercept          -2.3227      0.286     -8.134      0.000      -2.882      -1.763\n",
      "EstimatedSalary  2.387e-05   3.52e-06      6.790      0.000     1.7e-05    3.08e-05\n",
      "===================================================================================\n"
     ]
    }
   ],
   "source": [
    "model2 = sm.Logit.from_formula('Purchased ~ EstimatedSalary',data=customer).fit()\n",
    "print(model2.summary())"
   ]
  },
  {
   "cell_type": "code",
   "execution_count": 15,
   "id": "594d05e1",
   "metadata": {},
   "outputs": [
    {
     "name": "stdout",
     "output_type": "stream",
     "text": [
      "Optimization terminated successfully.\n",
      "         Current function value: 0.420327\n",
      "         Iterations 7\n",
      "                           Logit Regression Results                           \n",
      "==============================================================================\n",
      "Dep. Variable:              Purchased   No. Observations:                  400\n",
      "Model:                          Logit   Df Residuals:                      398\n",
      "Method:                           MLE   Df Model:                            1\n",
      "Date:                Sun, 22 Jan 2023   Pseudo R-squ.:                  0.3553\n",
      "Time:                        23:28:51   Log-Likelihood:                -168.13\n",
      "converged:                       True   LL-Null:                       -260.79\n",
      "Covariance Type:            nonrobust   LLR p-value:                 3.356e-42\n",
      "==============================================================================\n",
      "                 coef    std err          z      P>|z|      [0.025      0.975]\n",
      "------------------------------------------------------------------------------\n",
      "Intercept     -8.0441      0.784    -10.258      0.000      -9.581      -6.507\n",
      "Age            0.1889      0.019      9.866      0.000       0.151       0.226\n",
      "==============================================================================\n"
     ]
    }
   ],
   "source": [
    "model3 = sm.Logit.from_formula('Purchased ~ Age',data=customer).fit()\n",
    "print(model3.summary())"
   ]
  },
  {
   "cell_type": "code",
   "execution_count": 16,
   "id": "743289d1",
   "metadata": {},
   "outputs": [],
   "source": [
    "gender_dummy = pd.get_dummies(customer['Gender'])"
   ]
  },
  {
   "cell_type": "code",
   "execution_count": 17,
   "id": "0d39afdf",
   "metadata": {},
   "outputs": [],
   "source": [
    "combined_customer = pd.concat([customer,gender_dummy],axis=1)"
   ]
  },
  {
   "cell_type": "code",
   "execution_count": 18,
   "id": "179b62a0",
   "metadata": {},
   "outputs": [],
   "source": [
    "combined_customer = combined_customer.drop(['Female'],axis=1)"
   ]
  },
  {
   "cell_type": "code",
   "execution_count": 19,
   "id": "54c2b858",
   "metadata": {},
   "outputs": [
    {
     "name": "stdout",
     "output_type": "stream",
     "text": [
      "Optimization terminated successfully.\n",
      "         Current function value: 0.651064\n",
      "         Iterations 4\n",
      "                           Logit Regression Results                           \n",
      "==============================================================================\n",
      "Dep. Variable:              Purchased   No. Observations:                  400\n",
      "Model:                          Logit   Df Residuals:                      398\n",
      "Method:                           MLE   Df Model:                            1\n",
      "Date:                Sun, 22 Jan 2023   Pseudo R-squ.:                0.001384\n",
      "Time:                        23:28:55   Log-Likelihood:                -260.43\n",
      "converged:                       True   LL-Null:                       -260.79\n",
      "Covariance Type:            nonrobust   LLR p-value:                    0.3955\n",
      "==============================================================================\n",
      "                 coef    std err          z      P>|z|      [0.025      0.975]\n",
      "------------------------------------------------------------------------------\n",
      "Intercept     -0.5004      0.144     -3.464      0.001      -0.783      -0.217\n",
      "Male          -0.1775      0.209     -0.849      0.396      -0.587       0.232\n",
      "==============================================================================\n"
     ]
    }
   ],
   "source": [
    "model5 = sm.Logit.from_formula('Purchased ~ Male',data=combined_customer).fit()\n",
    "print(model5.summary())"
   ]
  },
  {
   "cell_type": "code",
   "execution_count": 20,
   "id": "f622f223",
   "metadata": {},
   "outputs": [
    {
     "name": "stdout",
     "output_type": "stream",
     "text": [
      "Optimization terminated successfully.\n",
      "         Current function value: 0.262888\n",
      "         Iterations 9\n",
      "                           Logit Regression Results                           \n",
      "==============================================================================\n",
      "Dep. Variable:              Purchased   No. Observations:                  400\n",
      "Model:                          Logit   Df Residuals:                      393\n",
      "Method:                           MLE   Df Model:                            6\n",
      "Date:                Sun, 22 Jan 2023   Pseudo R-squ.:                  0.5968\n",
      "Time:                        23:28:56   Log-Likelihood:                -105.16\n",
      "converged:                       True   LL-Null:                       -260.79\n",
      "Covariance Type:            nonrobust   LLR p-value:                 3.155e-64\n",
      "========================================================================================\n",
      "                           coef    std err          z      P>|z|      [0.025      0.975]\n",
      "----------------------------------------------------------------------------------------\n",
      "Intercept              -37.0373      4.828     -7.671      0.000     -46.501     -27.574\n",
      "EstimatedSalary          0.0003   4.46e-05      6.953      0.000       0.000       0.000\n",
      "Age                      0.7875      0.106      7.463      0.000       0.581       0.994\n",
      "Male                    -0.6031      2.572     -0.234      0.815      -5.644       4.438\n",
      "EstimatedSalary:Age  -6.337e-06   9.62e-07     -6.585      0.000   -8.22e-06   -4.45e-06\n",
      "EstimatedSalary:Male  1.443e-06   1.08e-05      0.134      0.894   -1.97e-05    2.26e-05\n",
      "Age:Male                 0.0264      0.054      0.488      0.625      -0.080       0.132\n",
      "========================================================================================\n",
      "\n",
      "Possibly complete quasi-separation: A fraction 0.11 of observations can be\n",
      "perfectly predicted. This might indicate that there is complete\n",
      "quasi-separation. In this case some parameters will not be identified.\n"
     ]
    }
   ],
   "source": [
    "model6 = sm.Logit.from_formula('Purchased ~ EstimatedSalary + Age + Male + EstimatedSalary*Age + EstimatedSalary*Male + Age*Male',data=combined_customer).fit()\n",
    "print(model6.summary())"
   ]
  },
  {
   "cell_type": "code",
   "execution_count": 21,
   "id": "3510948a",
   "metadata": {},
   "outputs": [
    {
     "name": "stdout",
     "output_type": "stream",
     "text": [
      "Optimization terminated successfully.\n",
      "         Current function value: 0.263196\n",
      "         Iterations 9\n",
      "                           Logit Regression Results                           \n",
      "==============================================================================\n",
      "Dep. Variable:              Purchased   No. Observations:                  400\n",
      "Model:                          Logit   Df Residuals:                      395\n",
      "Method:                           MLE   Df Model:                            4\n",
      "Date:                Sun, 22 Jan 2023   Pseudo R-squ.:                  0.5963\n",
      "Time:                        23:29:01   Log-Likelihood:                -105.28\n",
      "converged:                       True   LL-Null:                       -260.79\n",
      "Covariance Type:            nonrobust   LLR p-value:                 4.552e-66\n",
      "=======================================================================================\n",
      "                          coef    std err          z      P>|z|      [0.025      0.975]\n",
      "---------------------------------------------------------------------------------------\n",
      "Intercept             -37.6865      4.661     -8.085      0.000     -46.822     -28.551\n",
      "EstimatedSalary         0.0003   4.41e-05      7.065      0.000       0.000       0.000\n",
      "Age                     0.8014      0.102      7.873      0.000       0.602       1.001\n",
      "Male                    0.6202      0.363      1.707      0.088      -0.092       1.332\n",
      "EstimatedSalary:Age  -6.36e-06   9.56e-07     -6.651      0.000   -8.23e-06   -4.49e-06\n",
      "=======================================================================================\n",
      "\n",
      "Possibly complete quasi-separation: A fraction 0.12 of observations can be\n",
      "perfectly predicted. This might indicate that there is complete\n",
      "quasi-separation. In this case some parameters will not be identified.\n"
     ]
    }
   ],
   "source": [
    "model7 = sm.Logit.from_formula('Purchased ~ EstimatedSalary + Age + Male + EstimatedSalary*Age',data=combined_customer).fit()\n",
    "print(model7.summary())"
   ]
  },
  {
   "cell_type": "code",
   "execution_count": 22,
   "id": "f5a9beed",
   "metadata": {},
   "outputs": [
    {
     "name": "stdout",
     "output_type": "stream",
     "text": [
      "Optimization terminated successfully.\n",
      "         Current function value: 0.266962\n",
      "         Iterations 9\n",
      "                           Logit Regression Results                           \n",
      "==============================================================================\n",
      "Dep. Variable:              Purchased   No. Observations:                  400\n",
      "Model:                          Logit   Df Residuals:                      396\n",
      "Method:                           MLE   Df Model:                            3\n",
      "Date:                Sun, 22 Jan 2023   Pseudo R-squ.:                  0.5905\n",
      "Time:                        23:29:13   Log-Likelihood:                -106.78\n",
      "converged:                       True   LL-Null:                       -260.79\n",
      "Covariance Type:            nonrobust   LLR p-value:                 1.843e-66\n",
      "=======================================================================================\n",
      "                          coef    std err          z      P>|z|      [0.025      0.975]\n",
      "---------------------------------------------------------------------------------------\n",
      "Intercept             -36.1099      4.419     -8.172      0.000     -44.770     -27.449\n",
      "EstimatedSalary         0.0003   4.23e-05      7.098      0.000       0.000       0.000\n",
      "Age                     0.7750      0.098      7.933      0.000       0.584       0.967\n",
      "EstimatedSalary:Age -6.146e-06   9.21e-07     -6.670      0.000   -7.95e-06   -4.34e-06\n",
      "=======================================================================================\n",
      "\n",
      "Possibly complete quasi-separation: A fraction 0.11 of observations can be\n",
      "perfectly predicted. This might indicate that there is complete\n",
      "quasi-separation. In this case some parameters will not be identified.\n"
     ]
    }
   ],
   "source": [
    "model8 = sm.Logit.from_formula('Purchased ~ EstimatedSalary + Age + EstimatedSalary*Age',data=combined_customer).fit()\n",
    "print(model8.summary())"
   ]
  },
  {
   "cell_type": "code",
   "execution_count": 23,
   "id": "569d7933",
   "metadata": {
    "scrolled": false
   },
   "outputs": [
    {
     "name": "stdout",
     "output_type": "stream",
     "text": [
      "Optimization terminated successfully.\n",
      "         Current function value: 0.346314\n",
      "         Iterations 8\n",
      "                           Logit Regression Results                           \n",
      "==============================================================================\n",
      "Dep. Variable:              Purchased   No. Observations:                  400\n",
      "Model:                          Logit   Df Residuals:                      397\n",
      "Method:                           MLE   Df Model:                            2\n",
      "Date:                Sun, 22 Jan 2023   Pseudo R-squ.:                  0.4688\n",
      "Time:                        23:29:18   Log-Likelihood:                -138.53\n",
      "converged:                       True   LL-Null:                       -260.79\n",
      "Covariance Type:            nonrobust   LLR p-value:                 7.995e-54\n",
      "===================================================================================\n",
      "                      coef    std err          z      P>|z|      [0.025      0.975]\n",
      "-----------------------------------------------------------------------------------\n",
      "Intercept         -12.4340      1.300     -9.566      0.000     -14.982      -9.886\n",
      "EstimatedSalary   3.59e-05   5.43e-06      6.613      0.000    2.53e-05    4.65e-05\n",
      "Age                 0.2335      0.026      9.013      0.000       0.183       0.284\n",
      "===================================================================================\n"
     ]
    }
   ],
   "source": [
    "model9 = sm.Logit.from_formula('Purchased ~ EstimatedSalary + Age',data=combined_customer).fit()\n",
    "print(model9.summary())"
   ]
  },
  {
   "cell_type": "markdown",
   "id": "fd1b5d91",
   "metadata": {},
   "source": [
    "Question 3"
   ]
  },
  {
   "cell_type": "markdown",
   "id": "71580c66",
   "metadata": {},
   "source": [
    "By comparing the in-sample pseudo r-squared values I choose to go with model 8 which includes Estimated Salary, Age and the interaction between the 2 variables. The coefficients for Age and Estimated Salary are positive whereas the Intercept and Interaction Effect coefficient are negative. \n",
    "\n",
    "The coefficient of Age is the largest implying it is the most significant determinant of Purchase or not among the variables. The negative interaction effect is extremely small implying that age and gender have little effect on whether a consumer will purchase or not.\n",
    "\n",
    "More the age - more the odds of purchasing\n",
    "More the Estimated Salary - more the odds of purchasing\n",
    "Gender - no affect on the odds of purchasing"
   ]
  },
  {
   "cell_type": "markdown",
   "id": "598c9ab2",
   "metadata": {},
   "source": [
    "Question 4"
   ]
  },
  {
   "cell_type": "markdown",
   "id": "6fbdc6de",
   "metadata": {},
   "source": [
    "Logistic Regression is a problem of Classification. In this situation we are concerned with understanding how good our system is at classifiying correctly and accuracy may be misleading. We are interested in finding how good our model is at classifying correctly and therefore Precision and Recall are better measures, both of which focus on measuring the percentage of actual correct classifications compared to predicted correct classifications.\n",
    "\n",
    "We are not as interested in how well our model predicts the negative classifications. Having many correct 'negative' classifications would skew the accuracy metric to be higher even if the precision in classification of 'positives' may be low, therefore we do not go for Accuracy. "
   ]
  },
  {
   "cell_type": "markdown",
   "id": "410dce78",
   "metadata": {},
   "source": [
    "Question 5"
   ]
  },
  {
   "cell_type": "code",
   "execution_count": 25,
   "id": "072b3f6a",
   "metadata": {},
   "outputs": [
    {
     "data": {
      "image/png": "[encoded data removed]",
      "text/plain": [
       "<Figure size 432x288 with 1 Axes>"
      ]
     },
     "metadata": {
      "needs_background": "light"
     },
     "output_type": "display_data"
    }
   ],
   "source": [
    "from statsmodels.graphics.factorplots import interaction_plot\n",
    "#fig = interaction_plot(x = combined_customer['Age'], trace = combined_customer['Male'], response = combined_customer['Purchased'],\n",
    "#             colors=['red','blue'],markers=[\"D\", \"^\"])\n",
    "#sns.regplot()\n",
    "fig = interaction_plot(customer['Purchased'],customer['Gender'],customer['Age'])"
   ]
  },
  {
   "cell_type": "code",
   "execution_count": 28,
   "id": "85160ff6",
   "metadata": {},
   "outputs": [
    {
     "data": {
      "image/png": "[encoded data removed]",
      "text/plain": [
       "<Figure size 432x288 with 1 Axes>"
      ]
     },
     "metadata": {
      "needs_background": "light"
     },
     "output_type": "display_data"
    }
   ],
   "source": [
    "fig = interaction_plot(customer['Age'],customer['Gender'],customer['Purchased'])"
   ]
  },
  {
   "cell_type": "code",
   "execution_count": 27,
   "id": "de912af6",
   "metadata": {
    "scrolled": false
   },
   "outputs": [
    {
     "data": {
      "text/plain": [
       "<seaborn.axisgrid.FacetGrid at 0x7fa9d94f3550>"
      ]
     },
     "execution_count": 27,
     "metadata": {},
     "output_type": "execute_result"
    },
    {
     "data": {
      "image/png": "[encoded data removed]",
      "text/plain": [
       "<Figure size 402.375x360 with 1 Axes>"
      ]
     },
     "metadata": {
      "needs_background": "light"
     },
     "output_type": "display_data"
    }
   ],
   "source": [
    "sns.lmplot(data=combined_customer,x='Age',y='Purchased',hue ='Male',logistic=True,ci=False)"
   ]
  },
  {
   "cell_type": "markdown",
   "id": "aa52c95b",
   "metadata": {},
   "source": [
    "From the interaction plots we observe that the likelihood of making a purchase does not vary significantly by gender. Young males and Young females are equally unlikely to purchase and old males and old females are equally likely to purchase. The sigmoid graphs for both genders are quite similar and the regression lines are almost parallel."
   ]
  },
  {
   "cell_type": "markdown",
   "id": "ee51bcce",
   "metadata": {},
   "source": [
    "Question 6"
   ]
  },
  {
   "cell_type": "markdown",
   "id": "b7e5b612",
   "metadata": {},
   "source": [
    "Part 1\n",
    "a. Unclear, therefore yes.\n",
    "b. Yes\n",
    "c. No\n",
    "\n",
    "Part 2\n",
    "a. The likelihood of buying a house changes differently given different average saving levels for each of the income groups.\n",
    "\n",
    "b. The likelihood of buying a house changes differently given different average saving levels for each of the income groups. As average savings increase, low income groups are more likely to buy houses than previously whereas high income groups are less likely to buy houses than before.\n",
    "\n",
    "c. The likelihood of buying a house changes in the same proportion given different average savings for each of the income groups. The likelihood of buying a house only depends on the average savings (notwithstanding different starting points for the groups)."
   ]
  }
 ],
 "metadata": {
  "kernelspec": {
   "display_name": "Python 3 (ipykernel)",
   "language": "python",
   "name": "python3"
  },
  "language_info": {
   "codemirror_mode": {
    "name": "ipython",
    "version": 3
   },
   "file_extension": ".py",
   "mimetype": "text/x-python",
   "name": "python",
   "nbconvert_exporter": "python",
   "pygments_lexer": "ipython3",
   "version": "3.9.7"
  }
 },
 "nbformat": 4,
 "nbformat_minor": 5
}
